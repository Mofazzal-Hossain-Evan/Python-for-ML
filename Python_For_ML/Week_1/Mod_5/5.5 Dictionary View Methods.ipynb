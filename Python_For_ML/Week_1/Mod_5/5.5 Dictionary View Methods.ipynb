{
 "cells": [
  {
   "cell_type": "code",
   "execution_count": 3,
   "metadata": {},
   "outputs": [
    {
     "name": "stdout",
     "output_type": "stream",
     "text": [
      "dict_keys(['name', 'age', 'address', 'numbers'])\n",
      "dict_keys(['name', 'age', 'address', 'numbers', 'math'])\n"
     ]
    }
   ],
   "source": [
    "dic ={ \"name\" : \"Phitron\" , \"age\": 20 , \"address\" : \"Dhaka\" , \"numbers\":[10,20,30]} \n",
    "\n",
    "keys = dic.keys()\n",
    "print(keys)\n",
    "\n",
    "dic[\"math\"] = 33\n",
    "\n",
    "print(keys)\n",
    "\n",
    "values = dic.values()\n",
    "print(values)\n",
    "\n",
    "\n",
    "dic[\"math\"] = 40\n",
    "print(values)\n",
    "\n",
    "items = dic.items()\n",
    "\n",
    "print(items)"
   ]
  }
 ],
 "metadata": {
  "kernelspec": {
   "display_name": "Python 3",
   "language": "python",
   "name": "python3"
  },
  "language_info": {
   "codemirror_mode": {
    "name": "ipython",
    "version": 3
   },
   "file_extension": ".py",
   "mimetype": "text/x-python",
   "name": "python",
   "nbconvert_exporter": "python",
   "pygments_lexer": "ipython3",
   "version": "3.13.7"
  }
 },
 "nbformat": 4,
 "nbformat_minor": 2
}
