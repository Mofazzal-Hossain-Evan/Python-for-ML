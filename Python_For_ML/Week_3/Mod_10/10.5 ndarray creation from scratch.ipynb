{
 "cells": [
  {
   "cell_type": "code",
   "id": "initial_id",
   "metadata": {
    "collapsed": true,
    "ExecuteTime": {
     "end_time": "2025-11-01T03:43:44.757524Z",
     "start_time": "2025-11-01T03:43:44.752101Z"
    }
   },
   "source": [
    "import numpy as np\n",
    "arr = np.zeros((2,3),dtype=np.int8)\n",
    "print(arr)\n",
    "print(type(arr))\n",
    "print(arr.dtype)\n",
    "print(arr.shape)\n",
    "print(arr.ndim)\n",
    "print(arr.size)"
   ],
   "outputs": [
    {
     "name": "stdout",
     "output_type": "stream",
     "text": [
      "[[0 0 0]\n",
      " [0 0 0]]\n",
      "<class 'numpy.ndarray'>\n",
      "int8\n",
      "(2, 3)\n",
      "2\n",
      "6\n"
     ]
    }
   ],
   "execution_count": 7
  },
  {
   "metadata": {
    "ExecuteTime": {
     "end_time": "2025-11-01T03:57:12.229844Z",
     "start_time": "2025-11-01T03:57:12.224739Z"
    }
   },
   "cell_type": "code",
   "source": [
    "arw = np.ones((4,3),dtype=np.int8)\n",
    "print(arw)\n",
    "print(arw)\n",
    "print(type(arw))\n",
    "print(arw.dtype)\n",
    "print(arw.shape)\n",
    "print(arw.ndim)\n",
    "print(arw.size)\n",
    "\n"
   ],
   "id": "666bc434bc607e87",
   "outputs": [
    {
     "name": "stdout",
     "output_type": "stream",
     "text": [
      "[[1 1 1]\n",
      " [1 1 1]\n",
      " [1 1 1]\n",
      " [1 1 1]]\n",
      "[[1 1 1]\n",
      " [1 1 1]\n",
      " [1 1 1]\n",
      " [1 1 1]]\n",
      "<class 'numpy.ndarray'>\n",
      "int8\n",
      "(4, 3)\n",
      "2\n",
      "12\n"
     ]
    }
   ],
   "execution_count": 10
  },
  {
   "metadata": {
    "ExecuteTime": {
     "end_time": "2025-11-01T03:59:21.500509Z",
     "start_time": "2025-11-01T03:59:21.496741Z"
    }
   },
   "cell_type": "code",
   "source": [
    "arw = np.ones((3,4,3),dtype=np.int8)\n",
    "\n",
    "print(arw)\n",
    "print(arw)\n",
    "print(type(arw))\n",
    "print(arw.dtype)\n",
    "print(arw.shape)\n",
    "print(arw.ndim)\n",
    "print(arw.size)\n",
    "\n"
   ],
   "id": "4c1fe8583525d2b8",
   "outputs": [
    {
     "name": "stdout",
     "output_type": "stream",
     "text": [
      "[[[1 1 1]\n",
      "  [1 1 1]\n",
      "  [1 1 1]\n",
      "  [1 1 1]]\n",
      "\n",
      " [[1 1 1]\n",
      "  [1 1 1]\n",
      "  [1 1 1]\n",
      "  [1 1 1]]\n",
      "\n",
      " [[1 1 1]\n",
      "  [1 1 1]\n",
      "  [1 1 1]\n",
      "  [1 1 1]]]\n",
      "[[[1 1 1]\n",
      "  [1 1 1]\n",
      "  [1 1 1]\n",
      "  [1 1 1]]\n",
      "\n",
      " [[1 1 1]\n",
      "  [1 1 1]\n",
      "  [1 1 1]\n",
      "  [1 1 1]]\n",
      "\n",
      " [[1 1 1]\n",
      "  [1 1 1]\n",
      "  [1 1 1]\n",
      "  [1 1 1]]]\n",
      "<class 'numpy.ndarray'>\n",
      "int8\n",
      "(3, 4, 3)\n",
      "3\n",
      "36\n"
     ]
    }
   ],
   "execution_count": 11
  },
  {
   "metadata": {
    "ExecuteTime": {
     "end_time": "2025-11-01T04:01:25.178593Z",
     "start_time": "2025-11-01T04:01:25.173800Z"
    }
   },
   "cell_type": "code",
   "source": [
    "arr = np.zeros_like(arw)\n",
    "print(arr)\n",
    "print(arr.shape)"
   ],
   "id": "db6648b310601edf",
   "outputs": [
    {
     "name": "stdout",
     "output_type": "stream",
     "text": [
      "[[[0 0 0]\n",
      "  [0 0 0]\n",
      "  [0 0 0]\n",
      "  [0 0 0]]\n",
      "\n",
      " [[0 0 0]\n",
      "  [0 0 0]\n",
      "  [0 0 0]\n",
      "  [0 0 0]]\n",
      "\n",
      " [[0 0 0]\n",
      "  [0 0 0]\n",
      "  [0 0 0]\n",
      "  [0 0 0]]]\n",
      "(3, 4, 3)\n"
     ]
    }
   ],
   "execution_count": 12
  },
  {
   "metadata": {
    "ExecuteTime": {
     "end_time": "2025-11-01T04:01:58.689103Z",
     "start_time": "2025-11-01T04:01:58.685832Z"
    }
   },
   "cell_type": "code",
   "source": [
    "arr = np.ones_like(arw)\n",
    "print(arr)\n",
    "print(arr.shape)"
   ],
   "id": "c1bbc4aa278c817f",
   "outputs": [
    {
     "name": "stdout",
     "output_type": "stream",
     "text": [
      "[[[1 1 1]\n",
      "  [1 1 1]\n",
      "  [1 1 1]\n",
      "  [1 1 1]]\n",
      "\n",
      " [[1 1 1]\n",
      "  [1 1 1]\n",
      "  [1 1 1]\n",
      "  [1 1 1]]\n",
      "\n",
      " [[1 1 1]\n",
      "  [1 1 1]\n",
      "  [1 1 1]\n",
      "  [1 1 1]]]\n",
      "(3, 4, 3)\n"
     ]
    }
   ],
   "execution_count": 13
  },
  {
   "metadata": {
    "ExecuteTime": {
     "end_time": "2025-11-01T04:39:13.452221Z",
     "start_time": "2025-11-01T04:39:13.448216Z"
    }
   },
   "cell_type": "code",
   "source": [
    "arw = np.empty((4,3),dtype=np.int8)\n",
    "\n",
    "print(arw)\n",
    "print(arw)\n",
    "print(type(arw))\n",
    "print(arw.dtype)\n",
    "print(arw.shape)\n",
    "print(arw.ndim)\n",
    "print(arw.size)"
   ],
   "id": "cefdba8f78aa032d",
   "outputs": [
    {
     "name": "stdout",
     "output_type": "stream",
     "text": [
      "[[1 1 1]\n",
      " [1 1 1]\n",
      " [1 1 1]\n",
      " [1 1 1]]\n",
      "[[1 1 1]\n",
      " [1 1 1]\n",
      " [1 1 1]\n",
      " [1 1 1]]\n",
      "<class 'numpy.ndarray'>\n",
      "int8\n",
      "(4, 3)\n",
      "2\n",
      "12\n"
     ]
    }
   ],
   "execution_count": 16
  },
  {
   "metadata": {},
   "cell_type": "code",
   "outputs": [],
   "execution_count": null,
   "source": "",
   "id": "c662e1a7ce6112c4"
  },
  {
   "metadata": {
    "ExecuteTime": {
     "end_time": "2025-11-01T04:42:15.525917Z",
     "start_time": "2025-11-01T04:42:15.522621Z"
    }
   },
   "cell_type": "code",
   "source": [
    "arr3 = np.empty_like(arw) ## arr3 shape same\n",
    "print(arr3)\n",
    "print(arr3.shape)"
   ],
   "id": "47da5b029d7638bd",
   "outputs": [
    {
     "name": "stdout",
     "output_type": "stream",
     "text": [
      "[[  64  -84  117]\n",
      " [  70 -119    2]\n",
      " [   0    0    0]\n",
      " [   0    0    0]]\n",
      "(4, 3)\n"
     ]
    }
   ],
   "execution_count": 18
  },
  {
   "metadata": {},
   "cell_type": "code",
   "outputs": [],
   "execution_count": null,
   "source": "",
   "id": "d46cac488d612e96"
  },
  {
   "metadata": {
    "ExecuteTime": {
     "end_time": "2025-11-01T04:42:20.643309Z",
     "start_time": "2025-11-01T04:42:20.637793Z"
    }
   },
   "cell_type": "code",
   "source": [
    "arr = np.full((4,3),np.inf)\n",
    "\n",
    "# print(arr)\n",
    "# print(type(arr))\n",
    "# print(arr.dtype)\n",
    "# print(arr.shape)\n",
    "# print(arr.ndim)\n",
    "# print(arr.size)\n",
    "\n",
    "\n",
    "arr = np.full_like(arr3,np.inf,dtype=np.float64)\n",
    "\n",
    "print(arr)\n",
    "print(arr.shape)\n",
    "print(arr.dtype)"
   ],
   "id": "2786e938855dc6b1",
   "outputs": [
    {
     "name": "stdout",
     "output_type": "stream",
     "text": [
      "[[inf inf inf]\n",
      " [inf inf inf]\n",
      " [inf inf inf]\n",
      " [inf inf inf]]\n",
      "(4, 3)\n",
      "float64\n"
     ]
    }
   ],
   "execution_count": 19
  },
  {
   "metadata": {
    "ExecuteTime": {
     "end_time": "2025-11-01T04:45:50.060460Z",
     "start_time": "2025-11-01T04:45:50.056504Z"
    }
   },
   "cell_type": "code",
   "source": [
    "arr4 = np.full((4,3),True)\n",
    "print(arr)\n",
    "print(type(arr))\n",
    "print(arr4.dtype)\n",
    "print(arr4.shape)\n",
    "print(arr4.ndim)\n",
    "print(arr4.size)"
   ],
   "id": "1d73851ce8c98a2",
   "outputs": [
    {
     "name": "stdout",
     "output_type": "stream",
     "text": [
      "[[inf inf inf]\n",
      " [inf inf inf]\n",
      " [inf inf inf]\n",
      " [inf inf inf]]\n",
      "<class 'numpy.ndarray'>\n",
      "bool\n",
      "(4, 3)\n",
      "2\n",
      "12\n"
     ]
    }
   ],
   "execution_count": 22
  },
  {
   "metadata": {},
   "cell_type": "code",
   "outputs": [],
   "execution_count": null,
   "source": "",
   "id": "34a5b7c609ce2f0d"
  }
 ],
 "metadata": {
  "kernelspec": {
   "display_name": "Python 3",
   "language": "python",
   "name": "python3"
  },
  "language_info": {
   "codemirror_mode": {
    "name": "ipython",
    "version": 2
   },
   "file_extension": ".py",
   "mimetype": "text/x-python",
   "name": "python",
   "nbconvert_exporter": "python",
   "pygments_lexer": "ipython2",
   "version": "2.7.6"
  }
 },
 "nbformat": 4,
 "nbformat_minor": 5
}
