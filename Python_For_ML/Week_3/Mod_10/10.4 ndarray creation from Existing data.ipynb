{
 "cells": [
  {
   "cell_type": "code",
   "id": "initial_id",
   "metadata": {
    "collapsed": true,
    "ExecuteTime": {
     "end_time": "2025-11-01T02:27:21.049718Z",
     "start_time": "2025-11-01T02:27:21.045974Z"
    }
   },
   "source": [
    "import numpy as np\n",
    "\n",
    "lst =[12,37,67,87,55.5,'True']\n",
    "arr = np.array(lst,dtype=np.int32)\n",
    "\n",
    "print(arr)\n",
    "print(type(arr))\n",
    "print(arr.dtype)"
   ],
   "outputs": [
    {
     "name": "stdout",
     "output_type": "stream",
     "text": [
      "[12 37 67 87 55]\n",
      "<class 'numpy.ndarray'>\n",
      "int32\n"
     ]
    }
   ],
   "execution_count": 4
  },
  {
   "metadata": {
    "ExecuteTime": {
     "end_time": "2025-11-01T02:28:27.047780Z",
     "start_time": "2025-11-01T02:28:27.044538Z"
    }
   },
   "cell_type": "code",
   "source": [
    "lst_mixd =[12,37,67,87,55.5,'True',33]\n",
    "arr = np.array(lst_mixd)\n",
    "\n",
    "print(arr)\n",
    "print(type(arr))\n",
    "print(arr.dtype)"
   ],
   "id": "663d40c899ec4054",
   "outputs": [
    {
     "name": "stdout",
     "output_type": "stream",
     "text": [
      "['12' '37' '67' '87' '55.5' 'True' '33']\n",
      "<class 'numpy.ndarray'>\n",
      "<U32\n"
     ]
    }
   ],
   "execution_count": 7
  },
  {
   "metadata": {
    "ExecuteTime": {
     "end_time": "2025-11-01T02:36:28.314750Z",
     "start_time": "2025-11-01T02:36:28.311065Z"
    }
   },
   "cell_type": "code",
   "source": [
    "matrix = [[1,2,3],\n",
    "      [4,5,6],\n",
    "      [7,8,9]]\n",
    "\n",
    "arr = np.array(matrix)\n",
    "\n",
    "print(arr)\n",
    "print(type(arr))\n",
    "print(arr.dtype)\n",
    "print(arr.shape)\n",
    "print(arr.ndim)"
   ],
   "id": "fb960b8446291bfa",
   "outputs": [
    {
     "name": "stdout",
     "output_type": "stream",
     "text": [
      "[[1 2 3]\n",
      " [4 5 6]\n",
      " [7 8 9]]\n",
      "<class 'numpy.ndarray'>\n",
      "int64\n"
     ]
    }
   ],
   "execution_count": 8
  },
  {
   "metadata": {},
   "cell_type": "markdown",
   "source": "",
   "id": "5e0106dc4aed67a9"
  },
  {
   "metadata": {
    "ExecuteTime": {
     "end_time": "2025-11-01T02:50:07.541948Z",
     "start_time": "2025-11-01T02:50:07.535186Z"
    }
   },
   "cell_type": "code",
   "source": [
    "tpl = (12,55)\n",
    "\n",
    "arr = np.array(tpl,dtype=np.int32)\n",
    "print(arr.dtype)\n",
    "print(arr)\n",
    "print(type(arr))\n",
    "print(arr.shape)\n",
    "print(arr.ndim)"
   ],
   "id": "b626dc02e1437870",
   "outputs": [
    {
     "name": "stdout",
     "output_type": "stream",
     "text": [
      "int32\n",
      "[12 55]\n",
      "<class 'numpy.ndarray'>\n",
      "(2,)\n",
      "1\n"
     ]
    }
   ],
   "execution_count": 9
  },
  {
   "metadata": {
    "ExecuteTime": {
     "end_time": "2025-11-01T03:10:53.733407Z",
     "start_time": "2025-11-01T03:10:53.729999Z"
    }
   },
   "cell_type": "code",
   "source": [
    "st = (12,55,77)\n",
    "print(st)\n",
    "arr3 = np.array(list(st))\n",
    "print(arr3.dtype)\n",
    "\n",
    "print(type(arr3))\n",
    "print(arr3.shape)\n",
    "print(arr3.ndim)"
   ],
   "id": "8826ca153a758777",
   "outputs": [
    {
     "name": "stdout",
     "output_type": "stream",
     "text": [
      "(12, 55, 77)\n",
      "int64\n",
      "<class 'numpy.ndarray'>\n",
      "(3,)\n",
      "1\n"
     ]
    }
   ],
   "execution_count": 14
  },
  {
   "metadata": {
    "ExecuteTime": {
     "end_time": "2025-11-01T03:22:37.347749Z",
     "start_time": "2025-11-01T03:22:37.343267Z"
    }
   },
   "cell_type": "code",
   "source": [
    "dc = {'a':10, 'b':20, 'c':30}\n",
    "\n",
    "#keys to ndarray\n",
    "keys = dc.keys()\n",
    "values = dc.values()\n",
    "items = dc.items()\n",
    "arr = np.array(list(keys))\n",
    "print(arr)\n",
    "print(keys)\n",
    "print(values)\n",
    "print(items)\n",
    "print(dc)\n",
    "print(type(arr))\n",
    "print(arr.shape)\n",
    "print(arr.ndim)\n"
   ],
   "id": "558d114e029d8818",
   "outputs": [
    {
     "name": "stdout",
     "output_type": "stream",
     "text": [
      "['a' 'b' 'c']\n",
      "dict_keys(['a', 'b', 'c'])\n",
      "dict_values([10, 20, 30])\n",
      "dict_items([('a', 10), ('b', 20), ('c', 30)])\n",
      "{'a': 10, 'b': 20, 'c': 30}\n",
      "<class 'numpy.ndarray'>\n",
      "(3,)\n",
      "1\n"
     ]
    }
   ],
   "execution_count": 18
  },
  {
   "metadata": {},
   "cell_type": "markdown",
   "source": "_### **from the source file**_",
   "id": "9a1c2ad792ea0f37"
  },
  {
   "metadata": {
    "ExecuteTime": {
     "end_time": "2025-11-01T03:29:19.248026Z",
     "start_time": "2025-11-01T03:29:19.243034Z"
    }
   },
   "cell_type": "code",
   "source": [
    "#list\n",
    "\n",
    "lst = [10,20,30,40 , 40.5]\n",
    "\n",
    "arr = np.array(lst, dtype=np.int32)\n",
    "\n",
    "# print(arr)\n",
    "# print(type(arr))\n",
    "# print(arr.dtype)\n",
    "\n",
    "\n",
    "mixed_lst = [10, True , 'Hello' ]\n",
    "\n",
    "arr = np.array(mixed_lst)\n",
    "\n",
    "# print(arr)\n",
    "# print(type(arr))\n",
    "# print(arr.dtype)\n",
    "\n",
    "\n",
    "matrix = [ [1,2,3], # row1\n",
    "           [4,5,6] #row2\n",
    "                ]\n",
    "\n",
    "arr = np.array(matrix)\n",
    "\n",
    "print(arr)\n",
    "print(type(arr))\n",
    "print(arr.dtype)\n",
    "print(arr.shape)\n",
    "print(arr.ndim)"
   ],
   "id": "f02c888cdef0284",
   "outputs": [
    {
     "name": "stdout",
     "output_type": "stream",
     "text": [
      "[[1 2 3]\n",
      " [4 5 6]]\n",
      "<class 'numpy.ndarray'>\n",
      "int64\n",
      "(2, 3)\n",
      "2\n"
     ]
    }
   ],
   "execution_count": 19
  },
  {
   "metadata": {
    "ExecuteTime": {
     "end_time": "2025-11-01T03:29:36.601590Z",
     "start_time": "2025-11-01T03:29:36.597765Z"
    }
   },
   "cell_type": "code",
   "source": [
    "#tuple\n",
    "\n",
    "tpl = (10,20,30)\n",
    "\n",
    "arr = np.array(tpl,dtype=np.int32)\n",
    "print(arr.dtype)\n",
    "arr = arr.astype(np.int16)\n",
    "print(arr)\n",
    "print(type(arr))\n",
    "print(arr.dtype)\n",
    "print(arr.shape)\n",
    "print(arr.ndim)"
   ],
   "id": "5735939fb03e6d8c",
   "outputs": [
    {
     "name": "stdout",
     "output_type": "stream",
     "text": [
      "int32\n",
      "[10 20 30]\n",
      "<class 'numpy.ndarray'>\n",
      "int16\n",
      "(3,)\n",
      "1\n"
     ]
    }
   ],
   "execution_count": 21
  },
  {
   "metadata": {},
   "cell_type": "code",
   "outputs": [],
   "execution_count": null,
   "source": [
    "#set\n",
    "\n",
    "st = { 1, 2, 3 }\n",
    "\n",
    "arr = np.array(list(st))\n",
    "# print(arr.dtype)\n",
    "arr = arr.astype(np.int16)\n",
    "print(arr)\n",
    "print(type(arr))\n",
    "print(arr.dtype)\n",
    "print(arr.shape)\n",
    "print(arr.ndim)"
   ],
   "id": "6f209b6d0a9dd198"
  },
  {
   "metadata": {},
   "cell_type": "code",
   "outputs": [],
   "execution_count": null,
   "source": [
    "# dictionary\n",
    "\n",
    "dc = { 'a' : 10 , 'b' : 20 , 'c' :30 }\n",
    "\n",
    "keys = dc.keys()\n",
    "values = dc.values()\n",
    "items = dc.items()"
   ],
   "id": "40ef676f9c38f4bd"
  },
  {
   "metadata": {},
   "cell_type": "code",
   "outputs": [],
   "execution_count": null,
   "source": [
    "#keys to ndarray\n",
    "arr = np.array(list(keys))\n",
    "print(arr)\n",
    "print(type(arr))\n",
    "print(arr.dtype)\n",
    "print(arr.shape)\n",
    "print(arr.ndim)\n",
    "print(arr.size)"
   ],
   "id": "bb4a97ec33b73825"
  },
  {
   "metadata": {},
   "cell_type": "code",
   "outputs": [],
   "execution_count": null,
   "source": [
    "#values to ndarray\n",
    "arr = np.array(list(values))\n",
    "print(arr)\n",
    "arr = arr.astype(np.int16)\n",
    "print(type(arr))\n",
    "print(arr.dtype)\n",
    "print(arr.shape)\n",
    "print(arr.ndim)\n",
    "print(arr.size)"
   ],
   "id": "c2a68c6a363a9038"
  },
  {
   "metadata": {},
   "cell_type": "code",
   "outputs": [],
   "execution_count": null,
   "source": [
    "#items to ndarray\n",
    "arr = np.array(list(items))\n",
    "print(arr)\n",
    "print(type(arr))\n",
    "print(arr.dtype)\n",
    "print(arr.shape)\n",
    "print(arr.ndim)\n",
    "print(arr.size)"
   ],
   "id": "bdc35bd11cc83b58"
  }
 ],
 "metadata": {
  "kernelspec": {
   "display_name": "Python 3",
   "language": "python",
   "name": "python3"
  },
  "language_info": {
   "codemirror_mode": {
    "name": "ipython",
    "version": 2
   },
   "file_extension": ".py",
   "mimetype": "text/x-python",
   "name": "python",
   "nbconvert_exporter": "python",
   "pygments_lexer": "ipython2",
   "version": "2.7.6"
  }
 },
 "nbformat": 4,
 "nbformat_minor": 5
}
